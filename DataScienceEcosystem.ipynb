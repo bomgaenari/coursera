{
 "cells": [
  {
   "cell_type": "markdown",
   "id": "dacd7f40-fff6-43a6-8411-68843760eea3",
   "metadata": {
    "tags": []
   },
   "source": [
    "# Data Science Tools and Ecosystem"
   ]
  },
  {
   "cell_type": "markdown",
   "id": "e1af9c51-ab90-4677-969d-2dacb4175e32",
   "metadata": {},
   "source": [
    "In this notebook, Data science tools and Ecosystem are summarized."
   ]
  },
  {
   "cell_type": "markdown",
   "id": "e76576ca-0847-4c66-92c9-fd536ade9b39",
   "metadata": {
    "tags": []
   },
   "source": [
    "**Objectives:**\n",
    "* List popular languages for Data Science\n",
    "* List common libraries used in Data Science\n",
    "* List Data Science tools"
   ]
  },
  {
   "cell_type": "markdown",
   "id": "eeb6bd85-625a-4552-8d73-e122fd5cbda8",
   "metadata": {
    "tags": []
   },
   "source": [
    "Some of the popular languages that Data Scientist use are:\n",
    "1. Python\n",
    "2. R\n",
    "3. SQL"
   ]
  },
  {
   "cell_type": "markdown",
   "id": "714a814a-bb4d-42ba-b460-a4a2de3b6481",
   "metadata": {
    "tags": []
   },
   "source": [
    "Some of the commonly used libraries used by Data Scientists include:\n",
    "1. pandas\n",
    "2. ggplot\n",
    "3. caret"
   ]
  },
  {
   "cell_type": "markdown",
   "id": "87da05d0-31ae-42b2-ae69-db263a423353",
   "metadata": {},
   "source": [
    "|Data Science Tools|\n",
    "|------------------|\n",
    "|Gitlab|\n",
    "|VS Code|\n",
    "|RStudio|"
   ]
  },
  {
   "cell_type": "markdown",
   "id": "b83cb5e3-8721-46c4-8fca-0b8ba2fac424",
   "metadata": {
    "tags": []
   },
   "source": [
    "### Below are a few examples of evaluating arithmetic expressions in Python"
   ]
  },
  {
   "cell_type": "code",
   "execution_count": 7,
   "id": "2b900b82-95b2-409f-ba4c-78a2d7da49b3",
   "metadata": {
    "tags": []
   },
   "outputs": [
    {
     "data": {
      "text/plain": [
       "17"
      ]
     },
     "execution_count": 7,
     "metadata": {},
     "output_type": "execute_result"
    }
   ],
   "source": [
    "#This is a simple arithmetic expression to multiply then add integers\n",
    "(3*4)+5"
   ]
  },
  {
   "cell_type": "code",
   "execution_count": 8,
   "id": "a7e9b9fc-60a3-4392-8df9-b3a4828bb7ab",
   "metadata": {
    "tags": []
   },
   "outputs": [
    {
     "data": {
      "text/plain": [
       "3.3333333333333335"
      ]
     },
     "execution_count": 8,
     "metadata": {},
     "output_type": "execute_result"
    }
   ],
   "source": [
    "#This will convert 200 minutes to hours by dividing by 60\n",
    "200/60"
   ]
  },
  {
   "cell_type": "markdown",
   "id": "2e002231-13b8-438f-856c-b31fab09727b",
   "metadata": {},
   "source": [
    "## Author\n",
    "James Park"
   ]
  }
 ],
 "metadata": {
  "kernelspec": {
   "display_name": "Python 3 (ipykernel)",
   "language": "python",
   "name": "python3"
  },
  "language_info": {
   "codemirror_mode": {
    "name": "ipython",
    "version": 3
   },
   "file_extension": ".py",
   "mimetype": "text/x-python",
   "name": "python",
   "nbconvert_exporter": "python",
   "pygments_lexer": "ipython3",
   "version": "3.11.5"
  }
 },
 "nbformat": 4,
 "nbformat_minor": 5
}
